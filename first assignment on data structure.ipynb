{
 "cells": [
  {
   "cell_type": "markdown",
   "id": "0da79d6c-cf1e-4f8d-909b-cb9f475bb646",
   "metadata": {},
   "source": [
    "1:Write a code to reverse a string.\n"
   ]
  },
  {
   "cell_type": "code",
   "execution_count": null,
   "id": "e2210d0f-bc34-4338-9348-5b5b8a758641",
   "metadata": {},
   "outputs": [],
   "source": [
    "Original_string=input(\"Enter any world\")\n",
    "reverse_string=Original_string[::-1]\n",
    "print(\"original string:\",Original_string)\n",
    "print(\"reverse string:\",reverse_string)\n"
   ]
  },
  {
   "cell_type": "markdown",
   "id": "aa0e6de0-44e0-46da-b1d7-ace9a0e20945",
   "metadata": {},
   "source": [
    "2:Write a code to count the number of vowels in the string"
   ]
  },
  {
   "cell_type": "code",
   "execution_count": null,
   "id": "63ce91d5-cf2f-4688-9f19-f75123855a19",
   "metadata": {},
   "outputs": [],
   "source": [
    "def count_vowels(string):\n",
    "    vowels=\"aeiouAEIOU\"\n",
    "    count=0\n",
    "    for char in string:\n",
    "        if char in vowels:\n",
    "            count+=1\n",
    "    return count\n",
    "    \n",
    "string=input(\"Enter the string\")\n",
    "num_vowels=count_vowels(string)\n",
    "print(\"Number of vowels in the string:\",num_vowels)"
   ]
  },
  {
   "cell_type": "markdown",
   "id": "a708f2f9-88bf-4980-aa7d-41b82a992b97",
   "metadata": {},
   "source": [
    "3:Write a code to check if thestring is palindrome or not"
   ]
  },
  {
   "cell_type": "code",
   "execution_count": null,
   "id": "ea4afdab-9727-4abb-a97d-937fdcda2d6a",
   "metadata": {},
   "outputs": [],
   "source": [
    "def is_palindrome(input_string):\n",
    "    #firstly remove non-numeric charector and convert it in to lower case string\n",
    "    cleaned_s=''.join(char.lower() for char in input_string if char.isalnum())\n",
    "    #secondly check the cleaned string is equel to reverse of it\n",
    "    return cleaned_s==cleaned_s[::-1]\n",
    "\n",
    "#main body:\n",
    "input_string=input(\"enter the string\")\n",
    "if is_palindrome(input_string):\n",
    "    print(\"The string is a palindrome.\")\n",
    "else:\n",
    "    print(\"The string is not a palindrome.\")"
   ]
  },
  {
   "cell_type": "markdown",
   "id": "3b9e52e8-fabf-4623-99a1-4ab89270b83c",
   "metadata": {},
   "source": [
    "4:Write code to check if 2 given strings are anagrams of each other."
   ]
  },
  {
   "cell_type": "code",
   "execution_count": null,
   "id": "019087b1-da2f-4020-9130-a9b314f8cb6b",
   "metadata": {},
   "outputs": [],
   "source": [
    "def are_ana(str1, str2):\n",
    "    # Now we are remove spaces and convert to lowercase\n",
    "    str1 = str1.replace(\" \", \"\").lower()\n",
    "    str2 = str2.replace(\" \", \"\").lower()\n",
    "    \n",
    "    # to cheching if the sorted characters of both strings are equal\n",
    "    return sorted(str1) == sorted(str2)\n",
    "\n",
    "\n",
    "string1 = input(\"Enter first string\")\n",
    "string2 = input(\"Enter first string\")\n",
    "print(f\"Are '{string1}' and '{string2}' anagrams? {are_ana(string1, string2)}\")\n"
   ]
  },
  {
   "cell_type": "markdown",
   "id": "d8329010-801b-49aa-9ad5-4f7426f88769",
   "metadata": {},
   "source": [
    "5:Write a code to find all occurrences of givensubstrings within another strings."
   ]
  },
  {
   "cell_type": "code",
   "execution_count": null,
   "id": "8a8a143b-f83c-40e2-9208-91b657acdd95",
   "metadata": {},
   "outputs": [],
   "source": [
    "def find_substrings(main_string, substrings):\n",
    "    occurrences = {}\n",
    "    for substring in substrings:\n",
    "        start = 0\n",
    "        occurrences[substring] = []\n",
    "        while start < len(main_string):\n",
    "            index = main_string.find(substring, start)\n",
    "            if index == -1:  # No more occurrences\n",
    "                break\n",
    "            occurrences[substring].append(index)\n",
    "            start = index + 1  # Move past the last found index\n",
    "    return occurrences\n",
    "\n",
    "\n",
    "main_str = \"This is a test string to test the function.\"\n",
    "sub_strs = [\"test\", \"is\", \"function\"]\n",
    "print(find_substrings(main_str, sub_strs))\n"
   ]
  },
  {
   "cell_type": "markdown",
   "id": "05ba9d17-6475-422d-a84c-af3ca4cf2958",
   "metadata": {},
   "source": [
    "6:Write to code to perform basic string compression using the counts of repeated characters."
   ]
  },
  {
   "cell_type": "code",
   "execution_count": null,
   "id": "d1843924-de9a-4fc8-a452-31f23f0380af",
   "metadata": {},
   "outputs": [],
   "source": [
    "def compress_string(s):\n",
    "    if not s:\n",
    "        return s  # Return empty string if input is empty\n",
    "\n",
    "    compressed = []\n",
    "    count = 1\n",
    "    for i in range(1, len(s)):\n",
    "        if s[i] == s[i - 1]:\n",
    "            count += 1\n",
    "        else:\n",
    "            compressed.append(s[i - 1] + str(count))\n",
    "            count = 1\n",
    "\n",
    "    # Add the last character and its count\n",
    "    compressed.append(s[-1] + str(count))\n",
    "\n",
    "    # Join the compressed parts into a single string\n",
    "    compressed_str = ''.join(compressed)\n",
    "\n",
    "    # Return the original string if the compressed version is not shorter\n",
    "    return compressed_str if len(compressed_str) < len(s) else s\n",
    "\n",
    "\n",
    "original_str = \"aaabbbcccdddeee\"\n",
    "compressed_result = compress_string(original_str)\n",
    "print(f\"Compressed string: {compressed_result}\")\n"
   ]
  },
  {
   "cell_type": "markdown",
   "id": "7fa3425e-0c71-45e6-9997-5893ff389d0e",
   "metadata": {},
   "source": [
    "7:write a code to determine if strings has all unique characters."
   ]
  },
  {
   "cell_type": "code",
   "execution_count": null,
   "id": "63a39d93-b024-49eb-8ca9-378a720c98f0",
   "metadata": {},
   "outputs": [],
   "source": [
    "def has_unique_characters(s):\n",
    "    char_set = set()\n",
    "    for char in s:\n",
    "        if char in char_set:\n",
    "            return False  # Duplicate character found\n",
    "        char_set.add(char)\n",
    "    return True  # All characters are unique\n",
    "\n",
    "# Example usage:\n",
    "input_str = \"court\"\n",
    "result = has_unique_characters(input_str)\n",
    "print(f\"The string '{input_str}' has all unique characters: {result}\")\n"
   ]
  },
  {
   "cell_type": "markdown",
   "id": "727b3d1d-97d6-4f4c-848a-48a7f44d5de2",
   "metadata": {},
   "source": [
    "8:Write code to convert a given string to upper case or lower case."
   ]
  },
  {
   "cell_type": "code",
   "execution_count": null,
   "id": "96b786b4-54bb-4a06-87d3-4055747fb79b",
   "metadata": {},
   "outputs": [],
   "source": [
    "def convert_case(s):\n",
    "    upper_case = s.upper()\n",
    "    lower_case = s.lower()\n",
    "    return upper_case, lower_case\n",
    "\n",
    "# Example usage:\n",
    "original_str = \"Hello, World!\"\n",
    "upper_str, lower_str = convert_case(original_str)\n",
    "print(f\"Upper case: {upper_str}\")\n",
    "print(f\"Lower case: {lower_str}\")\n"
   ]
  },
  {
   "cell_type": "markdown",
   "id": "624cf536-a466-477f-84ac-33786e062acb",
   "metadata": {},
   "source": [
    "9:write a code  t to count the number of words in the string."
   ]
  },
  {
   "cell_type": "code",
   "execution_count": null,
   "id": "1e542e2a-496f-4b84-8ccc-5a93ed6363e4",
   "metadata": {},
   "outputs": [],
   "source": [
    "def count_words(s):\n",
    "    words = s.split()\n",
    "    return len(words)\n",
    "\n",
    "# Example usage:\n",
    "input_str = \"Right to court\"\n",
    "word_count = count_words(input_str)\n",
    "print(f\"The number of words in the string is: {word_count}\")\n"
   ]
  },
  {
   "cell_type": "markdown",
   "id": "6734ffc2-d697-41a8-adfa-464c870008a5",
   "metadata": {},
   "source": [
    "10:Write a code to concatenate 2 strings without using the + operator."
   ]
  },
  {
   "cell_type": "code",
   "execution_count": null,
   "id": "d41e2041-b41c-479e-9c1d-2cb7e641c0d4",
   "metadata": {},
   "outputs": [],
   "source": [
    "\n",
    "str1 = 'Hello'\n",
    "str2 = 'World'\n",
    "full_string = ''.join([str1, str2])  # Concatenates 'Hello' and 'World'\n",
    "print(full_string)\n"
   ]
  },
  {
   "cell_type": "markdown",
   "id": "b5b0b3af-7854-4dc3-8db4-ec708848b3cb",
   "metadata": {},
   "source": [
    "11:Write code to remove all occurrences offer specific element from a list."
   ]
  },
  {
   "cell_type": "code",
   "execution_count": null,
   "id": "c1e64a30-f3af-425e-a205-a507d4fcc33b",
   "metadata": {},
   "outputs": [],
   "source": [
    "def remove_items(test_list, item):\n",
    "    return list(filter(lambda a: a != item, test_list))\n",
    "\n",
    "original_list = [1, 3, 4, 6, 5, 1]\n",
    "item_to_remove = 1\n",
    "updated_list = remove_items(original_list, item_to_remove)\n",
    "print(\"The list after removing all occurrences of\", item_to_remove, \"is:\", updated_list)\n"
   ]
  },
  {
   "cell_type": "markdown",
   "id": "b7bdd7cc-eb9b-4a80-b35e-64b5b06c4c65",
   "metadata": {},
   "source": [
    "12:Implement a code to find the second largest number in a given list of integers."
   ]
  },
  {
   "cell_type": "code",
   "execution_count": null,
   "id": "16a9eb26-fa59-4449-bbe9-827687b974ee",
   "metadata": {},
   "outputs": [],
   "source": [
    "def find_second_largest(nums):\n",
    "    first, second = float('-inf'), float('-inf')\n",
    "    for n in nums:\n",
    "        if n > first:\n",
    "            first, second = n, first\n",
    "        elif first > n > second:\n",
    "            second = n\n",
    "    return second\n",
    "\n",
    "# Example usage:\n",
    "numbers = [10, 20, 4, 45, 99]\n",
    "print(\"The second largest number is:\", find_second_largest(numbers))\n"
   ]
  },
  {
   "cell_type": "markdown",
   "id": "28d606b6-f32a-4e4c-9cc6-53d81bc919a0",
   "metadata": {},
   "source": [
    "13:Create a code to count the occurrences of each element in a list and return dictionary with elements as keys and their counts as values."
   ]
  },
  {
   "cell_type": "code",
   "execution_count": null,
   "id": "424d0fd5-9ecd-4951-b21d-3dbae360eacf",
   "metadata": {},
   "outputs": [],
   "source": [
    "def count_occurrences(lst):\n",
    "    counts = {}\n",
    "    for element in lst:\n",
    "        counts[element] = counts.get(element, 0) + 1\n",
    "    return counts\n",
    "\n",
    "# Example usage:\n",
    "my_list = [1, 2, 2, 3, 3, 3, 4, 4, 4, 4]\n",
    "occurrences_dict = count_occurrences(my_list)\n",
    "print(occurrences_dict)\n"
   ]
  },
  {
   "cell_type": "markdown",
   "id": "a81187b7-5f78-4047-8512-16689a7080d9",
   "metadata": {},
   "source": [
    "14:Write a code to reverse a list in place without using any built in reverse functions."
   ]
  },
  {
   "cell_type": "code",
   "execution_count": null,
   "id": "5d1fb4bd-e958-40ce-a988-4f921623bab4",
   "metadata": {},
   "outputs": [],
   "source": [
    "def reverse_list_in_place(lst):\n",
    "    start_index = 0\n",
    "    end_index = len(lst) - 1\n",
    "    while start_index < end_index:\n",
    "        lst[start_index], lst[end_index] = lst[end_index], lst[start_index]\n",
    "        start_index += 1\n",
    "        end_index -= 1\n",
    "\n",
    "# Example usage:\n",
    "my_list = [1, 2, 3, 4, 5]\n",
    "reverse_list_in_place(my_list)\n",
    "print(\"Reversed list:\", my_list)\n"
   ]
  },
  {
   "cell_type": "markdown",
   "id": "dbda2f64-9303-4668-a9bd-e3e908517c84",
   "metadata": {},
   "source": [
    "15:Implement a code to find and remove duplicates from a list while preserving the original order of elements."
   ]
  },
  {
   "cell_type": "code",
   "execution_count": null,
   "id": "95508f87-10a3-4751-95cc-1c0cf51c53bc",
   "metadata": {},
   "outputs": [],
   "source": [
    "def remove_duplicates(lst):\n",
    "    seen = set()\n",
    "    seen_add = seen.add\n",
    "    return [x for x in lst if not (x in seen or seen_add(x))]\n",
    "\n",
    "# Example usage:\n",
    "original_list = [1, 2, 3, 4, 2, 1, 5, 6, 4]\n",
    "print(\"Original list:\", original_list)\n",
    "unique_list = remove_duplicates(original_list)\n",
    "print(\"List after removing duplicates:\", unique_list)\n"
   ]
  },
  {
   "cell_type": "markdown",
   "id": "ed3ce932-4ce8-4ae7-929e-afe8de940fdf",
   "metadata": {},
   "source": [
    "16:Create a code to check if a given list is sorted or not."
   ]
  },
  {
   "cell_type": "code",
   "execution_count": null,
   "id": "c3a87ef9-a24c-4d41-9795-48566ec2d06a",
   "metadata": {},
   "outputs": [],
   "source": [
    "def is_sorted(lst):\n",
    "    return all(lst[i] <= lst[i+1] for i in range(len(lst) - 1))\n",
    "\n",
    "# Example usage:\n",
    "my_list = [1, 2, 3, 4, 5]\n",
    "print(\"The list is sorted:\", is_sorted(my_list))\n"
   ]
  },
  {
   "cell_type": "markdown",
   "id": "b20f24d7-3095-4ecc-9950-59f8cadca136",
   "metadata": {},
   "source": [
    "17:Write a code to merge 2 sorted list into a single sorted list.\n",
    "\n"
   ]
  },
  {
   "cell_type": "code",
   "execution_count": null,
   "id": "c3aa7fa1-bc97-4708-9b00-6f67c8879c59",
   "metadata": {},
   "outputs": [],
   "source": [
    "def merge_sorted_lists_naive(list1, list2):\n",
    "    res = []\n",
    "    i, j = 0, 0\n",
    "    while i < len(list1) and j < len(list2):\n",
    "        if list1[i] < list2[j]:\n",
    "            res.append(list1[i])\n",
    "            i += 1\n",
    "        else:\n",
    "            res.append(list2[j])\n",
    "            j += 1\n",
    "    res += list1[i:] + list2[j:]\n",
    "    return res\n",
    "\n",
    "# Example usage:\n",
    "list1 = [1, 5, 6, 9, 11]\n",
    "list2 = [3, 4, 7, 8, 10]\n",
    "combined_sorted_list = merge_sorted_lists_naive(list1, list2)\n",
    "print(\"The combined sorted list is:\", combined_sorted_list)\n"
   ]
  },
  {
   "cell_type": "markdown",
   "id": "19e26d01-3e97-43f9-97ea-b537ecdd6993",
   "metadata": {},
   "source": [
    "18:Implement code to find the interests intersection of 2 given lists."
   ]
  },
  {
   "cell_type": "code",
   "execution_count": null,
   "id": "3387f45d-a5be-44c6-835e-a22762568dd1",
   "metadata": {},
   "outputs": [],
   "source": [
    "def merge_sorted_lists_naive(list1, list2):\n",
    "    res = []\n",
    "    i, j = 0, 0\n",
    "    while i < len(list1) and j < len(list2):\n",
    "        if list1[i] < list2[j]:\n",
    "            res.append(list1[i])\n",
    "            i += 1\n",
    "        else:\n",
    "            res.append(list2[j])\n",
    "            j += 1\n",
    "    res += list1[i:] + list2[j:]\n",
    "    return res\n",
    "\n",
    "# for Example :\n",
    "list1 = [1, 5, 6, 9, 11]\n",
    "list2 = [3, 4, 7, 8, 10]\n",
    "combined_sorted_list = merge_sorted_lists_naive(list1, list2)\n",
    "print(\"The combined sorted list is:\", combined_sorted_list)\n"
   ]
  },
  {
   "cell_type": "markdown",
   "id": "de1c8147-3bf0-4a43-85d2-532d83d93729",
   "metadata": {},
   "source": [
    "19:Create a code to find the union of 2 lists without duplicates."
   ]
  },
  {
   "cell_type": "code",
   "execution_count": null,
   "id": "00cb9065-648d-400d-aa68-129e5d80c33c",
   "metadata": {},
   "outputs": [],
   "source": [
    "def union_of_lists(list1, list2):\n",
    "    #We use set to remove duplicates and then convert it back to a list\n",
    "    return list(set(list1) | set(list2))\n",
    "\n",
    "# for Example :\n",
    "list1 = [1, 2, 3, 4, 5]\n",
    "list2 = [4, 5, 6, 7, 8]\n",
    "union_list = union_of_lists(list1, list2)\n",
    "print(\"The union of the two lists is:\", union_list)\n"
   ]
  },
  {
   "cell_type": "markdown",
   "id": "8f3fe01b-c156-4942-89cd-b6266b13f597",
   "metadata": {},
   "source": [
    "20:write to code to shuffle a given lists randomly without using any built in shuffle functions."
   ]
  },
  {
   "cell_type": "code",
   "execution_count": null,
   "id": "3ccd20c7-209a-4abb-8a1b-0a8231c7268c",
   "metadata": {},
   "outputs": [],
   "source": [
    "import random\n",
    "\n",
    "def shuffle_list(my_list):\n",
    "    \n",
    "    for i in range(len(my_list) - 1, 0, -1):\n",
    "        j = random.randint(0, i)\n",
    "        my_list[i], my_list[j] = my_list[j], my_list[i]\n",
    "    return my_list\n",
    "\n",
    "# for Example :\n",
    "original_list = [1, 2, 3, 4, 5, 6, 7, 8, 9, 10]\n",
    "shuffled_list = shuffle_list(original_list.copy())  # Copy to preserve the original list\n",
    "print(\"Original list:\", original_list)\n",
    "print(\"Shuffled list:\", shuffled_list)\n"
   ]
  },
  {
   "cell_type": "markdown",
   "id": "f459cc73-3bac-4114-95c4-6a745395790d",
   "metadata": {},
   "source": [
    "21:Write a code that takes 2 tuples as input and returns a new tuples containing elements that are common to both inputs tuples."
   ]
  },
  {
   "cell_type": "code",
   "execution_count": null,
   "id": "a5ba06e9-6e0e-4a67-84d5-9badca01db73",
   "metadata": {},
   "outputs": [],
   "source": [
    "def common_elements(tpl1, tpl2):\n",
    "    # firstly we convert tuples to sets and find the common elements\n",
    "    common_set = set(tpl1) & set(tpl2)\n",
    "    # secondly we convert the set back to a tuple\n",
    "    common_tuple = tuple(common_set)\n",
    "    return common_tuple\n",
    "\n",
    "# for Example :\n",
    "tpl1 = (4, 'v', (1, 3), 9, 8, ('m', 'v'))\n",
    "tpl2 = (7, 6, (3, 1), 5, 9, ('m', 'v'))\n",
    "result = common_elements(tpl1, tpl2)\n",
    "print(\"Common elements between the two tuples:\", result)\n"
   ]
  },
  {
   "cell_type": "markdown",
   "id": "4d8d3c5c-35b1-4f8d-a7d7-def2b77b6b1a",
   "metadata": {},
   "source": [
    "22:Create a code that prompts the user to enter 2 sets of integers separated by commas. Then print the intersections of these 2 sets."
   ]
  },
  {
   "cell_type": "code",
   "execution_count": null,
   "id": "443857b9-34db-4448-b29c-27bd59287b29",
   "metadata": {},
   "outputs": [],
   "source": [
    "def input_set(prompt):\n",
    "    \"\"\"\n",
    "    Function to input a set of integers from the user.\n",
    "    \"\"\"\n",
    "    try:\n",
    "        user_input = input(prompt)\n",
    "        integer_list = [int(x) for x in user_input.split(\",\")]\n",
    "        return set(integer_list)\n",
    "    except ValueError:\n",
    "        print(\"Invalid input. Please enter integers separated by commas.\")\n",
    "        return input_set(prompt)\n",
    "\n",
    "# from the user\n",
    "set1 = input_set(\"Enter the first set of integers (comma-separated): \")\n",
    "set2 = input_set(\"Enter the second set of integers (comma-separated): \")\n",
    "\n",
    "# intersection\n",
    "intersection = set1 & set2\n",
    "\n",
    "print(f\"The intersection of the two sets is: {intersection}\")\n"
   ]
  },
  {
   "cell_type": "markdown",
   "id": "e8ec1993-84c4-4afb-a486-7c44dfb4d92f",
   "metadata": {},
   "source": [
    "23:Write acode to concatenate two tuples . The function should take 2 tuples as input and return a new tuple containing elements from both inputs tuples."
   ]
  },
  {
   "cell_type": "code",
   "execution_count": null,
   "id": "35951164-157b-460a-af67-62d780d8f800",
   "metadata": {},
   "outputs": [],
   "source": [
    "def merge_tuples(tuple1, tuple2):\n",
    "    # combine it\n",
    "    return tuple1 + tuple2\n",
    "\n",
    "# for Example :\n",
    "tuple1 = (1, 2, 3)\n",
    "tuple2 = (4, 5, 6)\n",
    "merged_tuple = merge_tuples(tuple1, tuple2)\n",
    "print(\"The merged tuple is:\", merged_tuple)\n"
   ]
  },
  {
   "cell_type": "markdown",
   "id": "74fe7c90-eaa1-4959-af4e-4b2ad2d0bbc1",
   "metadata": {},
   "source": [
    "24:Develop a code that prompts the user to input 2 sets of strings, then print the elements that are present in the first set but not in the second set."
   ]
  },
  {
   "cell_type": "code",
   "execution_count": null,
   "id": "3305999a-6f67-43b2-baf9-ce7776b2530e",
   "metadata": {},
   "outputs": [],
   "source": [
    "def input_set_of_strings(prompt):\n",
    "    \n",
    "    user_input = input(prompt)\n",
    "    string_set = set(user_input.split(\",\"))\n",
    "    return string_set\n",
    "\n",
    "# Input  from the user\n",
    "set1 = input_set_of_strings(\"Enter the first set of strings (comma-separated): \")\n",
    "set2 = input_set_of_strings(\"Enter the second set of strings (comma-separated): \")\n",
    "\n",
    "# Find  difference\n",
    "difference = set1 - set2\n",
    "\n",
    "# result\n",
    "print(f\"The elements present in the first set but not in the second are: {difference}\")\n"
   ]
  },
  {
   "cell_type": "markdown",
   "id": "7dc0d272-69fc-43f5-9e23-82f6ed2f08f5",
   "metadata": {},
   "source": [
    "25:Create a code that takes a tuples and 2 integers as input. The function should return a new tuples containing elements from the original tuple  within the specified range of indices."
   ]
  },
  {
   "cell_type": "code",
   "execution_count": null,
   "id": "85dd63a4-d46a-4607-b9a8-b5998a35f230",
   "metadata": {},
   "outputs": [],
   "source": [
    "def remove_elements_within_range(original_list, start_index, end_index):\n",
    "    \n",
    "    # Ensure the start index is not less than 0 and end index is not beyond the list length\n",
    "    start_index = max(start_index, 0)\n",
    "    end_index = min(end_index, len(original_list) - 1)\n",
    "    \n",
    "    # Return the new list excluding the specified range\n",
    "    return original_list[:start_index] + original_list[end_index + 1:]\n",
    "\n",
    "# for Example :\n",
    "original_numbers = [0, 1, 2, 3, 4, 5, 6, 7, 8, 9]\n",
    "start_idx = 3\n",
    "end_idx = 6\n",
    "new_list = remove_elements_within_range(original_numbers, start_idx, end_idx)\n",
    "print(\"Original list:\", original_numbers)\n",
    "print(\"New list:\", new_list)\n"
   ]
  },
  {
   "cell_type": "markdown",
   "id": "03663ba3-ac36-4cdd-b8fa-401ecd84aacb",
   "metadata": {},
   "source": [
    "26:write a code that prompts the user to input 2 sets of characters, then print the union of these 2 seats."
   ]
  },
  {
   "cell_type": "code",
   "execution_count": null,
   "id": "de045f0b-be51-4469-a1d1-bbd541a9b70a",
   "metadata": {},
   "outputs": [],
   "source": [
    "def input_set_of_characters(prompt):\n",
    "    \"\"\"\n",
    "    Function to input a set of characters from the user.\n",
    "    \"\"\"\n",
    "    user_input = input(prompt)\n",
    "    character_set = set(user_input.split(\",\"))\n",
    "    return character_set\n",
    "\n",
    "# Input sets of characters from the user\n",
    "set1 = input_set_of_characters(\"Enter the first set of characters (comma-separated): \")\n",
    "set2 = input_set_of_characters(\"Enter the second set of characters (comma-separated): \")\n",
    "\n",
    "# Find the union\n",
    "union = set1 | set2\n",
    "\n",
    "# result\n",
    "print(f\"The union of the two sets is: {union}\")\n"
   ]
  },
  {
   "cell_type": "markdown",
   "id": "87237d1e-7797-48cf-91f6-11452be33dba",
   "metadata": {},
   "source": [
    "\n",
    "27:Developer code that takes a tuple of integer as input. The function should return maximum and minimum values from the tupples using tuple unpacking."
   ]
  },
  {
   "cell_type": "code",
   "execution_count": null,
   "id": "d5d922c3-e3f8-4d5a-aa47-ab9262b0caf9",
   "metadata": {},
   "outputs": [],
   "source": [
    "def find_max_min(values):\n",
    "    \n",
    "    #firstly we can unpack the tuple into individual elements\n",
    "    *unpacked_values, = values\n",
    "    # secondly find the max and min values using the unpacked elements\n",
    "    max_value = max(unpacked_values)\n",
    "    min_value = min(unpacked_values)\n",
    "    # thirdly pack the max and min values into a new tuple\n",
    "    result = (max_value, min_value)\n",
    "    return result\n",
    "\n",
    "# Example :\n",
    "input_tuple = (10, 20, 5, 15, 30, 25)\n",
    "max_min_tuple = find_max_min(input_tuple)\n",
    "print(\"Maximum and Minimum values:\", max_min_tuple)\n"
   ]
  },
  {
   "cell_type": "markdown",
   "id": "cf898126-0f9c-482a-a452-33aff5b14a56",
   "metadata": {},
   "source": [
    "28:Create a code that defines 2 sets of integers. Then print the union, intersection and difference of these 2 sets."
   ]
  },
  {
   "cell_type": "code",
   "execution_count": null,
   "id": "89986369-79af-4a07-b419-5b649df9500f",
   "metadata": {},
   "outputs": [],
   "source": [
    "# Define two sets of integers\n",
    "set1 = {1, 2, 3, 4, 5}\n",
    "set2 = {4, 5, 6, 7, 8}\n",
    "\n",
    "# Calculate the union, intersection, and difference\n",
    "union_set = set1 | set2\n",
    "intersection_set = set1 & set2\n",
    "difference_set = set1 - set2\n",
    "\n",
    "# Print the results\n",
    "print(f\"Union of set1 and set2: {union_set}\")\n",
    "print(f\"Intersection of set1 and set2: {intersection_set}\")\n",
    "print(f\"Difference of set1 and set2 (elements in set1 but not in set2): {difference_set}\")\n"
   ]
  },
  {
   "cell_type": "markdown",
   "id": "e93b29cb-d810-4f40-89af-4f7a914fa732",
   "metadata": {},
   "source": [
    "29:Write a code that takes a tuple and an element as input. The function should return the count of occurrence of the given in the tuple."
   ]
  },
  {
   "cell_type": "code",
   "execution_count": null,
   "id": "d79c0640-8a50-4f7b-91c9-c040ee2af81c",
   "metadata": {},
   "outputs": [],
   "source": [
    "def count_occurrences_using_list_comprehension(tup, x):\n",
    "    return len([ele for ele in tup if ele == x])\n",
    "\n",
    "# Example usage:\n",
    "my_tuple = (10, 8, 5, 2, 10, 15, 10, 8, 5, 8, 8, 2)\n",
    "element_to_count = 4\n",
    "print(f\"The element {element_to_count} occurs {count_occurrences_using_list_comprehension(my_tuple, element_to_count)} times.\")\n"
   ]
  },
  {
   "cell_type": "markdown",
   "id": "c7809aac-7d6c-48e3-bf62-5ddde0185cd2",
   "metadata": {},
   "source": [
    "30: write  a Code that prompts the user to input 2 sets of strings, then print the symmetric difference of these 2 sets."
   ]
  },
  {
   "cell_type": "code",
   "execution_count": null,
   "id": "430c1315-f4f5-43f0-9346-e54be1b3fd28",
   "metadata": {},
   "outputs": [],
   "source": [
    "def input_set_of_strings(prompt):\n",
    " \n",
    "    user_input = input(prompt)\n",
    "    string_set = set(user_input.split(\",\"))\n",
    "    return string_set\n",
    "\n",
    "# Input sets of strings from the user\n",
    "set1 = input_set_of_strings(\"Enter the first set of strings (comma-separated): \")\n",
    "set2 = input_set_of_strings(\"Enter the second set of strings (comma-separated): \")\n",
    "\n",
    "# To find the symmetric difference\n",
    "symmetric_difference = set1 ^ set2\n",
    "print(f\"The symmetric difference of the two sets is: {symmetric_difference}\")\n"
   ]
  },
  {
   "cell_type": "markdown",
   "id": "eb9ed455-a506-4d20-80a0-15011d500baf",
   "metadata": {},
   "source": [
    "31:write a Code that takes a list of words as input and returns a dictionary where the keys are unique words and the values are the frequencies of those words in the input list."
   ]
  },
  {
   "cell_type": "code",
   "execution_count": null,
   "id": "0bd3dfd2-2730-4028-b1f5-afe994ebe329",
   "metadata": {},
   "outputs": [],
   "source": [
    "def word_frequencies(word_list):\n",
    "\n",
    "    frequency_dict = {}\n",
    "    for word in word_list:\n",
    "        # Increment the count for each occurrence of the word\n",
    "        frequency_dict[word] = frequency_dict.get(word, 0) + 1\n",
    "    return frequency_dict\n",
    "\n",
    "# Example usage:\n",
    "words = ['apple', 'banana', 'apple', 'orange', 'banana', 'apple']\n",
    "freq_dict = word_frequencies(words)\n",
    "print(freq_dict)\n"
   ]
  },
  {
   "cell_type": "markdown",
   "id": "62e8bbef-368e-4ccf-b8dc-4896903cebe7",
   "metadata": {},
   "source": [
    "32:write a code  that takes 2 dictionaries as input and merges them into a single dictionary if there are Common keys. The values should be added together."
   ]
  },
  {
   "cell_type": "code",
   "execution_count": null,
   "id": "db965679-d409-46ef-9447-75e6285b2949",
   "metadata": {},
   "outputs": [],
   "source": [
    "def merge_dictionaries(dict1, dict2):\n",
    "    merged_dict = {}\n",
    "    \n",
    "    # Merge keys from dict1\n",
    "    for key, value in dict1.items():\n",
    "        merged_dict[key] = value\n",
    "    \n",
    "    # Add values from dict2 to merged_dict\n",
    "    for key, value in dict2.items():\n",
    "        if key in merged_dict:\n",
    "            merged_dict[key] += value\n",
    "        else:\n",
    "            merged_dict[key] = value\n",
    "    \n",
    "    return merged_dict\n",
    "\n",
    "# Example usage\n",
    "dict1 = {'a': 10, 'b': 20, 'c': 30}\n",
    "dict2 = {'b': 5, 'c': 15, 'd': 25}\n",
    "\n",
    "merged_result = merge_dictionaries(dict1, dict2)\n",
    "print(merged_result)\n"
   ]
  },
  {
   "cell_type": "markdown",
   "id": "52d7835c-9d49-4313-b08b-3ab44f554587",
   "metadata": {},
   "source": [
    "33:write a code to access value in a nested dictionary. The function should take the dictionary and a list of keys as input and returns the corresponding value if any of the keys do not exist the function should return none."
   ]
  },
  {
   "cell_type": "code",
   "execution_count": null,
   "id": "f8feaf1a-b938-4f09-a645-50f4391ca973",
   "metadata": {},
   "outputs": [],
   "source": [
    "def get_nested_value(dictionary, keys, default=None):\n",
    "    \n",
    "    current_dict = dictionary\n",
    "    for key in keys:\n",
    "        if isinstance(current_dict, dict) and key in current_dict:\n",
    "            current_dict = current_dict[key]\n",
    "        else:\n",
    "            return default\n",
    "    return current_dict\n",
    "\n",
    "# Example usage\n",
    "nested_dict = {\n",
    "    'a': {\n",
    "        'b': {\n",
    "            'c': 42\n",
    "        }\n",
    "    }\n",
    "}\n",
    "\n",
    "keys_to_access = ['a', 'b', 'c']\n",
    "result = get_nested_value(nested_dict, keys_to_access)\n",
    "print(f\"Value: {result}\")\n",
    "\n",
    "# Example with missing key\n",
    "keys_missing = ['a', 'b', 'd']\n",
    "result_missing = get_nested_value(nested_dict, keys_missing, default=\"Key not found\")\n",
    "print(f\"Value (missing key): {result_missing}\")\n"
   ]
  },
  {
   "cell_type": "markdown",
   "id": "54c756b1-2778-40b1-ad25-b6d98df02513",
   "metadata": {},
   "source": [
    "34:Write a code that takes a dictionary as input and returns a sorted version of it. Based on the values you can sort. Choose whether to sort ascending or descending order."
   ]
  },
  {
   "cell_type": "code",
   "execution_count": null,
   "id": "52014837-9578-4343-8bee-df2c526aa72e",
   "metadata": {},
   "outputs": [],
   "source": [
    "def sort_dict_by_values(input_dict, ascending=True):\n",
    "    \n",
    "    sorted_tuples = sorted(input_dict.items(), key=lambda item: item[1], reverse=not ascending)\n",
    "    return dict(sorted_tuples)\n",
    "\n",
    "# Example usage\n",
    "my_dict = {'apple': 10, 'banana': 2, 'cherry': 7, 'date': 3}\n",
    "\n",
    "# Sort in ascending order\n",
    "sorted_dict_asc = sort_dict_by_values(my_dict, ascending=True)\n",
    "print('Sorted Dictionary (Ascending):', sorted_dict_asc)\n",
    "\n",
    "# Sort in descending order\n",
    "sorted_dict_desc = sort_dict_by_values(my_dict, ascending=False)\n",
    "print('Sorted Dictionary (Descending):', sorted_dict_desc)\n"
   ]
  },
  {
   "cell_type": "markdown",
   "id": "b632b420-a942-45ad-a923-86daa02d5067",
   "metadata": {},
   "source": [
    "35:write a code that inverts the dictionary,swapping keys and values.Ensure that the inverted dictionary correctly handles cases where multiple keys have the same values by sorting the keys as a list in the inverted dictionary."
   ]
  },
  {
   "cell_type": "code",
   "execution_count": null,
   "id": "71cc1010-32fe-4842-a2aa-a67793626d7f",
   "metadata": {},
   "outputs": [],
   "source": [
    "from collections import defaultdict\n",
    "\n",
    "def invert_dictionary(input_dict):\n",
    "   \n",
    "    inverted_dict = defaultdict(list)\n",
    "    \n",
    "    # Swap keys and values, storing keys in a list for each value\n",
    "    for key, value in input_dict.items():\n",
    "        inverted_dict[value].append(key)\n",
    "    \n",
    "    # Sort the lists of keys for each new key in the inverted dictionary\n",
    "    for key in inverted_dict:\n",
    "        inverted_dict[key].sort()\n",
    "    \n",
    "    return dict(inverted_dict)\n",
    "\n",
    "# Example usage\n",
    "original_dict = {'a': 1, 'b': 2, 'c': 1, 'd': 3, 'e': 2}\n",
    "\n",
    "inverted_dict = invert_dictionary(original_dict)\n",
    "print('Inverted Dictionary:', inverted_dict)\n"
   ]
  },
  {
   "cell_type": "code",
   "execution_count": null,
   "id": "32c7464c-3b16-4c97-877a-5b0237b082fd",
   "metadata": {},
   "outputs": [],
   "source": []
  }
 ],
 "metadata": {
  "kernelspec": {
   "display_name": "Python 3 (ipykernel)",
   "language": "python",
   "name": "python3"
  },
  "language_info": {
   "codemirror_mode": {
    "name": "ipython",
    "version": 3
   },
   "file_extension": ".py",
   "mimetype": "text/x-python",
   "name": "python",
   "nbconvert_exporter": "python",
   "pygments_lexer": "ipython3",
   "version": "3.10.8"
  }
 },
 "nbformat": 4,
 "nbformat_minor": 5
}
